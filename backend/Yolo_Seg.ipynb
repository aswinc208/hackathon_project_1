{
 "cells": [
  {
   "cell_type": "code",
   "execution_count": 1,
   "metadata": {},
   "outputs": [
    {
     "name": "stdout",
     "output_type": "stream",
     "text": [
      "Ultralytics YOLOv8.1.6 🚀 Python-3.11.6 torch-2.1.2+cpu CPU (Intel Core(TM) i5-9300H 2.40GHz)\n",
      "YOLOv8s-seg summary (fused): 195 layers, 11810560 parameters, 0 gradients, 42.6 GFLOPs\n",
      "\n",
      "Found https://media.roboflow.com/notebooks/examples/dog.jpeg locally at dog.jpeg\n",
      "image 1/1 c:\\Users\\quinb\\Documents\\RoyalHackaway\\dog.jpeg: 640x384 1 person, 1 car, 1 dog, 1 backpack, 1 handbag, 506.6ms\n",
      "Speed: 4.3ms preprocess, 506.6ms inference, 28.2ms postprocess per image at shape (1, 3, 640, 384)\n",
      "Results saved to \u001b[1mruns\\segment\\predict7\u001b[0m\n",
      "💡 Learn more at https://docs.ultralytics.com/modes/predict\n"
     ]
    }
   ],
   "source": [
    "#!yolo task=segment mode=predict model=yolov8s-seg.pt conf=0.25 source='https://media.roboflow.com/notebooks/examples/dog.jpeg' save=true"
   ]
  },
  {
   "cell_type": "code",
   "execution_count": 9,
   "metadata": {},
   "outputs": [
    {
     "name": "stdout",
     "output_type": "stream",
     "text": [
      "\n",
      "image 1/1 C:\\Users\\quinb\\Documents\\RoyalHackaway\\dog.jpeg: 640x384 1 person, 1 car, 1 dog, 189.2ms\n",
      "Speed: 5.5ms preprocess, 189.2ms inference, 4.0ms postprocess per image at shape (1, 3, 640, 384)\n",
      "[ultralytics.engine.results.Results object with attributes:\n",
      "\n",
      "boxes: ultralytics.engine.results.Boxes object\n",
      "keypoints: None\n",
      "masks: None\n",
      "names: {0: 'person', 1: 'bicycle', 2: 'car', 3: 'motorcycle', 4: 'airplane', 5: 'bus', 6: 'train', 7: 'truck', 8: 'boat', 9: 'traffic light', 10: 'fire hydrant', 11: 'stop sign', 12: 'parking meter', 13: 'bench', 14: 'bird', 15: 'cat', 16: 'dog', 17: 'horse', 18: 'sheep', 19: 'cow', 20: 'elephant', 21: 'bear', 22: 'zebra', 23: 'giraffe', 24: 'backpack', 25: 'umbrella', 26: 'handbag', 27: 'tie', 28: 'suitcase', 29: 'frisbee', 30: 'skis', 31: 'snowboard', 32: 'sports ball', 33: 'kite', 34: 'baseball bat', 35: 'baseball glove', 36: 'skateboard', 37: 'surfboard', 38: 'tennis racket', 39: 'bottle', 40: 'wine glass', 41: 'cup', 42: 'fork', 43: 'knife', 44: 'spoon', 45: 'bowl', 46: 'banana', 47: 'apple', 48: 'sandwich', 49: 'orange', 50: 'broccoli', 51: 'carrot', 52: 'hot dog', 53: 'pizza', 54: 'donut', 55: 'cake', 56: 'chair', 57: 'couch', 58: 'potted plant', 59: 'bed', 60: 'dining table', 61: 'toilet', 62: 'tv', 63: 'laptop', 64: 'mouse', 65: 'remote', 66: 'keyboard', 67: 'cell phone', 68: 'microwave', 69: 'oven', 70: 'toaster', 71: 'sink', 72: 'refrigerator', 73: 'book', 74: 'clock', 75: 'vase', 76: 'scissors', 77: 'teddy bear', 78: 'hair drier', 79: 'toothbrush'}\n",
      "obb: None\n",
      "orig_img: array([[[202, 157, 120],\n",
      "        [202, 157, 120],\n",
      "        [202, 157, 120],\n",
      "        ...,\n",
      "        [199, 161, 129],\n",
      "        [198, 160, 128],\n",
      "        [198, 160, 128]],\n",
      "\n",
      "       [[201, 156, 119],\n",
      "        [201, 156, 119],\n",
      "        [201, 156, 119],\n",
      "        ...,\n",
      "        [199, 161, 129],\n",
      "        [199, 161, 129],\n",
      "        [198, 160, 128]],\n",
      "\n",
      "       [[201, 156, 119],\n",
      "        [201, 156, 119],\n",
      "        [201, 156, 119],\n",
      "        ...,\n",
      "        [200, 162, 130],\n",
      "        [199, 161, 129],\n",
      "        [199, 161, 129]],\n",
      "\n",
      "       ...,\n",
      "\n",
      "       [[202, 204, 205],\n",
      "        [220, 222, 223],\n",
      "        [233, 235, 236],\n",
      "        ...,\n",
      "        [109, 124, 150],\n",
      "        [112, 126, 154],\n",
      "        [106, 123, 150]],\n",
      "\n",
      "       [[197, 199, 200],\n",
      "        [225, 227, 228],\n",
      "        [220, 222, 223],\n",
      "        ...,\n",
      "        [106, 121, 147],\n",
      "        [105, 119, 147],\n",
      "        [105, 121, 150]],\n",
      "\n",
      "       [[208, 210, 211],\n",
      "        [194, 196, 197],\n",
      "        [221, 223, 224],\n",
      "        ...,\n",
      "        [103, 118, 144],\n",
      "        [106, 120, 148],\n",
      "        [118, 134, 163]]], dtype=uint8)\n",
      "orig_shape: (1280, 720)\n",
      "path: 'C:\\\\Users\\\\quinb\\\\Documents\\\\RoyalHackaway\\\\dog.jpeg'\n",
      "probs: None\n",
      "save_dir: None\n",
      "speed: {'preprocess': 5.5103302001953125, 'inference': 189.2404556274414, 'postprocess': 4.00233268737793}]\n"
     ]
    }
   ],
   "source": [
    "from ultralytics import YOLO\n",
    "model = YOLO('yolov8n.pt')\n",
    "source = r\"C:\\Users\\quinb\\Documents\\RoyalHackaway\\dog.jpeg\"\n",
    "results = model(source)  # list of Results objects\n",
    "print(results)"
   ]
  },
  {
   "cell_type": "code",
   "execution_count": 17,
   "metadata": {},
   "outputs": [
    {
     "ename": "AttributeError",
     "evalue": "'list' object has no attribute 'names'",
     "output_type": "error",
     "traceback": [
      "\u001b[1;31m---------------------------------------------------------------------------\u001b[0m",
      "\u001b[1;31mAttributeError\u001b[0m                            Traceback (most recent call last)",
      "Cell \u001b[1;32mIn[17], line 3\u001b[0m\n\u001b[0;32m      1\u001b[0m \u001b[38;5;66;03m# Assuming that 'results' is the output you obtained\u001b[39;00m\n\u001b[1;32m----> 3\u001b[0m \u001b[38;5;28mprint\u001b[39m(\u001b[43mresults\u001b[49m\u001b[38;5;241;43m.\u001b[39;49m\u001b[43mnames\u001b[49m)\n\u001b[0;32m      4\u001b[0m \u001b[38;5;66;03m# person_class_index = first_result.names.index('person')\u001b[39;00m\n\u001b[0;32m      5\u001b[0m \n\u001b[0;32m      6\u001b[0m \u001b[38;5;66;03m# # Get the information for the person class\u001b[39;00m\n\u001b[1;32m   (...)\u001b[0m\n\u001b[0;32m     13\u001b[0m \u001b[38;5;66;03m# print(\"Bounding Box X values:\", bbox_x)\u001b[39;00m\n\u001b[0;32m     14\u001b[0m \u001b[38;5;66;03m# print(\"Bounding Box Y values:\", bbox_y)\u001b[39;00m\n",
      "\u001b[1;31mAttributeError\u001b[0m: 'list' object has no attribute 'names'"
     ]
    }
   ],
   "source": [
    "# Assuming that 'results' is the output you obtained\n",
    "\n",
    "print(results.names)\n",
    "# person_class_index = first_result.names.index('person')\n",
    "\n",
    "# # Get the information for the person class\n",
    "# person_info = first_result.xyxy[first_result.xyxy[:, -1] == person_class_index]\n",
    "\n",
    "# # Extract bounding box x and y values\n",
    "# bbox_x, bbox_y = person_info[:, 0], person_info[:, 1]\n",
    "\n",
    "# # Print or use the extracted information as needed\n",
    "# print(\"Bounding Box X values:\", bbox_x)\n",
    "# print(\"Bounding Box Y values:\", bbox_y)\n"
   ]
  }
 ],
 "metadata": {
  "kernelspec": {
   "display_name": "Python 3",
   "language": "python",
   "name": "python3"
  },
  "language_info": {
   "codemirror_mode": {
    "name": "ipython",
    "version": 3
   },
   "file_extension": ".py",
   "mimetype": "text/x-python",
   "name": "python",
   "nbconvert_exporter": "python",
   "pygments_lexer": "ipython3",
   "version": "3.11.6"
  }
 },
 "nbformat": 4,
 "nbformat_minor": 2
}
